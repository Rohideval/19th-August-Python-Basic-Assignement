{
 "cells": [
  {
   "cell_type": "code",
   "execution_count": 1,
   "id": "2be4a5ca-a5eb-4a9c-bd4f-96e1c45df157",
   "metadata": {},
   "outputs": [],
   "source": [
    "#TOPIC: Python Basics Variable"
   ]
  },
  {
   "cell_type": "code",
   "execution_count": 2,
   "id": "c22550c8-c874-482d-8421-ab034838ac71",
   "metadata": {},
   "outputs": [
    {
     "data": {
      "text/plain": [
       "'1. Declare two variables, `x` and `y`, and assign them integer values. Swap the\\nvalues of these variables without using any temporary variable.'"
      ]
     },
     "execution_count": 2,
     "metadata": {},
     "output_type": "execute_result"
    }
   ],
   "source": [
    "\"\"\"1. Declare two variables, `x` and `y`, and assign them integer values. Swap the\n",
    "values of these variables without using any temporary variable.\"\"\""
   ]
  },
  {
   "cell_type": "code",
   "execution_count": 9,
   "id": "bd9667fe-b1ad-4fd2-9245-88f19df79862",
   "metadata": {},
   "outputs": [
    {
     "name": "stdout",
     "output_type": "stream",
     "text": [
      "After swap value of x: 5\n",
      "After swap value of y: 4\n"
     ]
    }
   ],
   "source": [
    "x,y=4,5\n",
    "x,y=y,x\n",
    "print('After swap value of x:',x)\n",
    "print('After swap value of y:',y)"
   ]
  },
  {
   "cell_type": "code",
   "execution_count": 10,
   "id": "272772e0-82b6-4779-a25d-50dae4c3ba04",
   "metadata": {},
   "outputs": [
    {
     "data": {
      "text/plain": [
       "'2. Create a program that calculates the area of a rectangle. Take the length and\\nwidth as inputs from the user and store them in variables. Calculate and\\ndisplay the area.'"
      ]
     },
     "execution_count": 10,
     "metadata": {},
     "output_type": "execute_result"
    }
   ],
   "source": [
    "\"\"\"2. Create a program that calculates the area of a rectangle. Take the length and\n",
    "width as inputs from the user and store them in variables. Calculate and\n",
    "display the area.\"\"\""
   ]
  },
  {
   "cell_type": "code",
   "execution_count": 11,
   "id": "29803b5b-bb00-436f-a64a-5d6abc8b7574",
   "metadata": {},
   "outputs": [
    {
     "name": "stdin",
     "output_type": "stream",
     "text": [
      " 4\n",
      " 5\n"
     ]
    },
    {
     "name": "stdout",
     "output_type": "stream",
     "text": [
      "Rectangle Area is  20 cm^\n"
     ]
    }
   ],
   "source": [
    "height_of_rect = int(input())\n",
    "width_of_rect = int(input())\n",
    "Rect_Area=height_of_rect*width_of_rect\n",
    "print('Rectangle Area is ',Rect_Area,'cm^')"
   ]
  },
  {
   "cell_type": "markdown",
   "id": "16737586-4432-4be1-a896-1d495b8f608b",
   "metadata": {},
   "source": [
    "\"\"\"3. Write a Python program that converts temperatures from Celsius to\n",
    "Fahrenheit. Take the temperature in Celsius as input, store it in a variable,\n",
    "convert it to Fahrenheit, and display the result.\"\"\""
   ]
  },
  {
   "cell_type": "code",
   "execution_count": 13,
   "id": "1956b4a3-0c30-4cc3-ae80-9404fdad5d84",
   "metadata": {},
   "outputs": [
    {
     "name": "stdin",
     "output_type": "stream",
     "text": [
      " 33\n"
     ]
    },
    {
     "name": "stdout",
     "output_type": "stream",
     "text": [
      "Fahrenheit Temrature is : 91.4\n"
     ]
    }
   ],
   "source": [
    "Celsius_temp= float(input())\n",
    "Fahrenheit_temp=(Celsius_temp*9/5)+32\n",
    "print('Fahrenheit Temrature is :',Fahrenheit_temp)"
   ]
  },
  {
   "cell_type": "code",
   "execution_count": null,
   "id": "e6eeed41-d3e9-4b62-a732-dbb1b00fd66c",
   "metadata": {},
   "outputs": [],
   "source": []
  },
  {
   "cell_type": "code",
   "execution_count": 14,
   "id": "941b1b44-e6ae-4591-8640-63d0e54b0d0e",
   "metadata": {},
   "outputs": [],
   "source": [
    "#TOPIC: String Based Questions\n"
   ]
  },
  {
   "cell_type": "markdown",
   "id": "65d44ea4-efd3-4955-9fb9-f2987d0c0e5f",
   "metadata": {},
   "source": [
    "#1. Write a Python program that takes a string as input and prints the length of the string."
   ]
  },
  {
   "cell_type": "code",
   "execution_count": 16,
   "id": "86b54c6b-d158-48f8-a6fb-151aa2e6335a",
   "metadata": {},
   "outputs": [
    {
     "name": "stdin",
     "output_type": "stream",
     "text": [
      "please type here : welcome to data science\n"
     ]
    },
    {
     "name": "stdout",
     "output_type": "stream",
     "text": [
      "length of string is: 23\n"
     ]
    }
   ],
   "source": [
    "a= input(\"please type here :\")\n",
    "print('length of string is:', len(a))"
   ]
  },
  {
   "cell_type": "code",
   "execution_count": 18,
   "id": "98ab1c94-23dc-4f52-847a-3a88cdec2441",
   "metadata": {},
   "outputs": [
    {
     "name": "stdin",
     "output_type": "stream",
     "text": [
      "enter your sentence: Enjoy your day!!!!\n"
     ]
    },
    {
     "name": "stdout",
     "output_type": "stream",
     "text": [
      "Vowel Available in sentence : E :count: 1\n",
      "Vowel Available in sentence : o :count: 2\n",
      "Vowel Available in sentence : o :count: 3\n",
      "Vowel Available in sentence : u :count: 4\n",
      "Vowel Available in sentence : a :count: 5\n"
     ]
    }
   ],
   "source": [
    "b=input(\"enter your sentence:\")\n",
    "vowel= 'a','e','i','o','u','A','E','I','O','U'\n",
    "vowel_avl=[]\n",
    "for i in b:\n",
    "    if i in vowel:\n",
    "        vowel_avl.append(i)\n",
    "        print(\"Vowel Available in sentence :\",i,':count:',len(vowel_avl))"
   ]
  },
  {
   "cell_type": "markdown",
   "id": "f5c93fea-65a9-4b0e-a7cf-51a0d3753cc4",
   "metadata": {},
   "source": [
    "#3.Given a string, reverse the order of characters using string slicing and print the reversed string."
   ]
  },
  {
   "cell_type": "code",
   "execution_count": 24,
   "id": "80e74d81-3dc5-4a87-9b02-b1016c458282",
   "metadata": {},
   "outputs": [
    {
     "name": "stdout",
     "output_type": "stream",
     "text": [
      "Reversed the string_: ssehc yalp ot evol i\n"
     ]
    }
   ],
   "source": [
    "a='i love to play chess'\n",
    "print('Reversed the string_:',a[::-1])"
   ]
  },
  {
   "cell_type": "code",
   "execution_count": null,
   "id": "067edf6d-607b-48b1-a80e-0459e83ba41f",
   "metadata": {},
   "outputs": [],
   "source": []
  },
  {
   "cell_type": "markdown",
   "id": "c542de7a-594a-422c-a8de-06c16fc30adf",
   "metadata": {},
   "source": [
    "#4. Write a program that takes a string as input and checks if it is a palindrome\n",
    "#(reads the same forwards and backwards).\n"
   ]
  },
  {
   "cell_type": "code",
   "execution_count": 26,
   "id": "cf924f92-87cc-4b74-867d-42e05bbc9ada",
   "metadata": {},
   "outputs": [
    {
     "name": "stdin",
     "output_type": "stream",
     "text": [
      "Type a word to check whether it is  palindrome or not pop\n"
     ]
    },
    {
     "name": "stdout",
     "output_type": "stream",
     "text": [
      "True : Yes it is  palindrome\n"
     ]
    }
   ],
   "source": [
    "Word_check=input(\"Type a word to check whether it is  palindrome or not\")\n",
    "\n",
    "if Word_check[::]==Word_check[::-1]:\n",
    "    print(True,\": Yes it is  palindrome\")\n",
    "else:\n",
    "    print(False,\": No its not an  palindrome\")"
   ]
  },
  {
   "cell_type": "code",
   "execution_count": null,
   "id": "e16f1551-ca79-4fd4-b238-c26cecb5855e",
   "metadata": {},
   "outputs": [],
   "source": []
  },
  {
   "cell_type": "markdown",
   "id": "2c3c47f1-5569-443f-b1ef-35fac1bf9e75",
   "metadata": {},
   "source": [
    "#5. Create a program that takes a string as input and removes all the spaces from\n",
    "it. Print the modified string without spaces."
   ]
  },
  {
   "cell_type": "code",
   "execution_count": 29,
   "id": "e26c037f-c2a6-4115-a2b0-cdcaf4210adc",
   "metadata": {},
   "outputs": [
    {
     "name": "stdin",
     "output_type": "stream",
     "text": [
      "Please enter your string its a yummy chicken\n"
     ]
    },
    {
     "name": "stdout",
     "output_type": "stream",
     "text": [
      "updated string is: itsayummychicken\n"
     ]
    }
   ],
   "source": [
    "string = input(\"Please enter your string\")\n",
    "Updated_string=string.replace(\" \",\"\")\n",
    "print('updated string is:',Updated_string)"
   ]
  },
  {
   "cell_type": "code",
   "execution_count": null,
   "id": "d87cfea2-681c-4e1d-8164-cb89f2f7eee8",
   "metadata": {},
   "outputs": [],
   "source": []
  }
 ],
 "metadata": {
  "kernelspec": {
   "display_name": "Python 3 (ipykernel)",
   "language": "python",
   "name": "python3"
  },
  "language_info": {
   "codemirror_mode": {
    "name": "ipython",
    "version": 3
   },
   "file_extension": ".py",
   "mimetype": "text/x-python",
   "name": "python",
   "nbconvert_exporter": "python",
   "pygments_lexer": "ipython3",
   "version": "3.10.8"
  }
 },
 "nbformat": 4,
 "nbformat_minor": 5
}
